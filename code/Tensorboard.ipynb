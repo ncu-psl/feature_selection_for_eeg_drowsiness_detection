{
 "cells": [
  {
   "cell_type": "code",
   "execution_count": 5,
   "id": "04c2992f",
   "metadata": {},
   "outputs": [
    {
     "data": {
      "text/plain": [
       "Reusing TensorBoard on port 8890 (pid 6603), started 10:51:22 ago. (Use '!kill 6603' to kill it.)"
      ]
     },
     "metadata": {},
     "output_type": "display_data"
    },
    {
     "data": {
      "text/html": [
       "\n",
       "      <iframe id=\"tensorboard-frame-8339b98d10b19b84\" width=\"100%\" height=\"800\" frameborder=\"0\">\n",
       "      </iframe>\n",
       "      <script>\n",
       "        (function() {\n",
       "          const frame = document.getElementById(\"tensorboard-frame-8339b98d10b19b84\");\n",
       "          const url = new URL(\"/\", window.location);\n",
       "          const port = 8890;\n",
       "          if (port) {\n",
       "            url.port = port;\n",
       "          }\n",
       "          frame.src = url;\n",
       "        })();\n",
       "      </script>\n",
       "    "
      ],
      "text/plain": [
       "<IPython.core.display.HTML object>"
      ]
     },
     "metadata": {},
     "output_type": "display_data"
    }
   ],
   "source": [
    "%reload_ext tensorboard\n",
    "%tensorboard --logdir ./lightning_logs --host 0.0.0.0 --port=8890"
   ]
  },
  {
   "cell_type": "code",
   "execution_count": 8,
   "id": "0195fa76",
   "metadata": {},
   "outputs": [
    {
     "name": "stdout",
     "output_type": "stream",
     "text": [
      "/bin/sh: 1: kill: No such process\r\n",
      "\r\n"
     ]
    }
   ],
   "source": [
    "!kill 9027"
   ]
  },
  {
   "cell_type": "code",
   "execution_count": 6,
   "id": "311e5fd1",
   "metadata": {},
   "outputs": [],
   "source": [
    "!cd /tmp/.tensorboard-info"
   ]
  },
  {
   "cell_type": "code",
   "execution_count": null,
   "id": "91d8a18e",
   "metadata": {},
   "outputs": [],
   "source": [
    "!export TMPDIR=/tmp/USER; \n",
    "!mkdir -p $TMPDIR;"
   ]
  },
  {
   "cell_type": "code",
   "execution_count": 12,
   "id": "cb1d6e21",
   "metadata": {},
   "outputs": [],
   "source": [
    "!chmod 777 /tmp/.tensorboard-info"
   ]
  },
  {
   "cell_type": "code",
   "execution_count": 22,
   "id": "e36eed5d",
   "metadata": {},
   "outputs": [
    {
     "name": "stdout",
     "output_type": "stream",
     "text": [
      "21245 pts/1    Ss+    0:01 /bin/sh -c ps -ax |grep tensorboard\r\n",
      "21307 pts/1    S+     0:00 grep tensorboard\r\n"
     ]
    }
   ],
   "source": [
    "!ps -ax |grep tensorboard"
   ]
  },
  {
   "cell_type": "code",
   "execution_count": 23,
   "id": "c96d85c9",
   "metadata": {},
   "outputs": [
    {
     "name": "stdout",
     "output_type": "stream",
     "text": [
      "/bin/sh: 1: kill: No such process\r\n",
      "\r\n",
      "/bin/sh: 1: kill: No such process\r\n",
      "\r\n"
     ]
    }
   ],
   "source": [
    "!kill 21245 21307"
   ]
  },
  {
   "cell_type": "code",
   "execution_count": 24,
   "id": "2fde357a",
   "metadata": {},
   "outputs": [
    {
     "name": "stdout",
     "output_type": "stream",
     "text": [
      "21609 pts/1    Ss+    0:01 /bin/sh -c ps -ax |grep tensorboard\r\n",
      "21611 pts/1    S+     0:00 grep tensorboard\r\n"
     ]
    }
   ],
   "source": [
    "!ps -ax |grep tensorboard"
   ]
  },
  {
   "cell_type": "code",
   "execution_count": null,
   "id": "a221e1cb",
   "metadata": {},
   "outputs": [
    {
     "name": "stdout",
     "output_type": "stream",
     "text": [
      "Found existing installation: tensorboard 2.3.0\n",
      "Uninstalling tensorboard-2.3.0:\n",
      "  Would remove:\n",
      "    /usr/local/bin/tensorboard\n",
      "    /usr/local/lib/python3.6/dist-packages/tensorboard-2.3.0.dist-info/*\n",
      "    /usr/local/lib/python3.6/dist-packages/tensorboard/*\n",
      "Proceed (y/n)? "
     ]
    }
   ],
   "source": [
    "!pip uninstall tensorboard"
   ]
  },
  {
   "cell_type": "code",
   "execution_count": null,
   "id": "0fb9555e",
   "metadata": {},
   "outputs": [],
   "source": [
    "!y"
   ]
  },
  {
   "cell_type": "code",
   "execution_count": null,
   "id": "0ab73fce",
   "metadata": {},
   "outputs": [],
   "source": []
  }
 ],
 "metadata": {
  "kernelspec": {
   "display_name": "Python 3",
   "language": "python",
   "name": "python3"
  },
  "language_info": {
   "codemirror_mode": {
    "name": "ipython",
    "version": 3
   },
   "file_extension": ".py",
   "mimetype": "text/x-python",
   "name": "python",
   "nbconvert_exporter": "python",
   "pygments_lexer": "ipython3",
   "version": "3.6.9"
  }
 },
 "nbformat": 4,
 "nbformat_minor": 5
}
